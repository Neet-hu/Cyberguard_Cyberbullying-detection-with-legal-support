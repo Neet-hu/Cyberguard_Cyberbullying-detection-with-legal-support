{
  "cells": [
    {
      "cell_type": "code",
      "execution_count": 2,
      "metadata": {},
      "outputs": [],
      "source": [
        "import numpy as np\n",
        "import pandas as pd\n",
        "import re\n",
        "import json\n",
        "from tensorflow.keras.preprocessing.text import Tokenizer\n",
        "from tensorflow.keras.preprocessing.sequence import pad_sequences\n",
        "from tensorflow.keras.models import Sequential\n",
        "from tensorflow.keras.layers import Embedding, LSTM, Bidirectional, Dense, Dropout\n",
        "from sklearn.model_selection import train_test_split\n",
        "from sklearn.preprocessing import LabelEncoder\n",
        "from tensorflow.keras.models import load_model\n",
        "import pickle\n",
        "from tensorflow.keras.models import model_from_json\n"
      ]
    },
    {
      "cell_type": "code",
      "execution_count": 3,
      "metadata": {},
      "outputs": [],
      "source": [
        "jsonpath = \"Dataset for Detection of Cyber-Trolls.json\"\n",
        "csvpath =  \"CyberBullyingTypesDataset.csv\"  \n",
        "pickle_model_path = \"BI LSTM/models/model.pkl\"\n",
        "keras_model_path = \"BI LSTM/models/model.keras\""
      ]
    },
    {
      "cell_type": "code",
      "execution_count": 11,
      "metadata": {},
      "outputs": [],
      "source": [
        "\n",
        "cleaned_df = pd.read_csv(\"cleaned_dataset.csv\")\n",
        "texts = cleaned_df['texts'].tolist()\n",
        "combined_labels = cleaned_df['label'].tolist()"
      ]
    },
    {
      "cell_type": "code",
      "execution_count": 12,
      "metadata": {},
      "outputs": [
        {
          "data": {
            "text/plain": [
              "label\n",
              "1    26781\n",
              "0    19440\n",
              "Name: count, dtype: int64"
            ]
          },
          "execution_count": 12,
          "metadata": {},
          "output_type": "execute_result"
        }
      ],
      "source": [
        "cleaned_df['label'].value_counts()\n"
      ]
    },
    {
      "cell_type": "code",
      "execution_count": 13,
      "metadata": {},
      "outputs": [
        {
          "data": {
            "text/html": [
              "<div>\n",
              "<style scoped>\n",
              "    .dataframe tbody tr th:only-of-type {\n",
              "        vertical-align: middle;\n",
              "    }\n",
              "\n",
              "    .dataframe tbody tr th {\n",
              "        vertical-align: top;\n",
              "    }\n",
              "\n",
              "    .dataframe thead th {\n",
              "        text-align: right;\n",
              "    }\n",
              "</style>\n",
              "<table border=\"1\" class=\"dataframe\">\n",
              "  <thead>\n",
              "    <tr style=\"text-align: right;\">\n",
              "      <th></th>\n",
              "      <th>texts</th>\n",
              "      <th>label</th>\n",
              "    </tr>\n",
              "  </thead>\n",
              "  <tbody>\n",
              "    <tr>\n",
              "      <th>0</th>\n",
              "      <td>get fucking real dude</td>\n",
              "      <td>1</td>\n",
              "    </tr>\n",
              "    <tr>\n",
              "      <th>1</th>\n",
              "      <td>she is as dirty as they come and that crook re...</td>\n",
              "      <td>1</td>\n",
              "    </tr>\n",
              "    <tr>\n",
              "      <th>2</th>\n",
              "      <td>why did you fuck it up i could do it all day t...</td>\n",
              "      <td>1</td>\n",
              "    </tr>\n",
              "    <tr>\n",
              "      <th>3</th>\n",
              "      <td>dude they dont finish enclosing the fucking sh...</td>\n",
              "      <td>1</td>\n",
              "    </tr>\n",
              "    <tr>\n",
              "      <th>4</th>\n",
              "      <td>wtf are you talking about men no men thats not...</td>\n",
              "      <td>1</td>\n",
              "    </tr>\n",
              "  </tbody>\n",
              "</table>\n",
              "</div>"
            ],
            "text/plain": [
              "                                               texts  label\n",
              "0                              get fucking real dude      1\n",
              "1  she is as dirty as they come and that crook re...      1\n",
              "2  why did you fuck it up i could do it all day t...      1\n",
              "3  dude they dont finish enclosing the fucking sh...      1\n",
              "4  wtf are you talking about men no men thats not...      1"
            ]
          },
          "execution_count": 13,
          "metadata": {},
          "output_type": "execute_result"
        }
      ],
      "source": [
        "cleaned_df.head(5)"
      ]
    },
    {
      "cell_type": "markdown",
      "metadata": {
        "id": "lDmi-pgGtDRe"
      },
      "source": [
        "**BI-LSTM MODEL**"
      ]
    },
    {
      "cell_type": "code",
      "execution_count": 14,
      "metadata": {},
      "outputs": [],
      "source": [
        "tokenizer = Tokenizer(num_words=10000, oov_token=\"<OOV>\")\n",
        "tokenizer.fit_on_texts(texts)\n",
        "sequences = tokenizer.texts_to_sequences(texts)\n",
        "\n",
        "max_length = 100 \n",
        "padded_sequences = pad_sequences(sequences, maxlen=max_length, padding='post')\n",
        "\n",
        "label_encoder = LabelEncoder()\n",
        "encoded_labels = label_encoder.fit_transform(combined_labels)\n",
        "\n",
        "X_train, X_test, y_train, y_test = train_test_split(padded_sequences, encoded_labels, test_size=0.2, random_state=42)"
      ]
    },
    {
      "cell_type": "code",
      "execution_count": 15,
      "metadata": {},
      "outputs": [
        {
          "name": "stdout",
          "output_type": "stream",
          "text": [
            "Training set label counts:\n",
            "1    21445\n",
            "0    15531\n",
            "Name: count, dtype: int64\n",
            "Testing set label counts:\n",
            "1    5336\n",
            "0    3909\n",
            "Name: count, dtype: int64\n"
          ]
        }
      ],
      "source": [
        "y_train_series = pd.Series(y_train)\n",
        "y_test_series = pd.Series(y_test)\n",
        "train_label_counts = y_train_series.value_counts()\n",
        "test_label_counts = y_test_series.value_counts()\n",
        "print(\"Training set label counts:\")\n",
        "print(train_label_counts)\n",
        "print(\"Testing set label counts:\")\n",
        "print(test_label_counts)"
      ]
    },
    {
      "cell_type": "code",
      "execution_count": 28,
      "metadata": {
        "colab": {
          "base_uri": "https://localhost:8080/"
        },
        "id": "bhH6z30Usn-B",
        "outputId": "52c420be-c47d-43f9-8254-2ca153ff9c53"
      },
      "outputs": [
        {
          "name": "stdout",
          "output_type": "stream",
          "text": [
            "Epoch 1/10\n",
            "\u001b[1m1156/1156\u001b[0m \u001b[32m━━━━━━━━━━━━━━━━━━━━\u001b[0m\u001b[37m\u001b[0m \u001b[1m287s\u001b[0m 239ms/step - accuracy: 0.8258 - loss: 0.3721 - val_accuracy: 0.8860 - val_loss: 0.2592\n",
            "Epoch 2/10\n",
            "\u001b[1m1156/1156\u001b[0m \u001b[32m━━━━━━━━━━━━━━━━━━━━\u001b[0m\u001b[37m\u001b[0m \u001b[1m270s\u001b[0m 234ms/step - accuracy: 0.9077 - loss: 0.2238 - val_accuracy: 0.8912 - val_loss: 0.2590\n",
            "Epoch 3/10\n",
            "\u001b[1m1156/1156\u001b[0m \u001b[32m━━━━━━━━━━━━━━━━━━━━\u001b[0m\u001b[37m\u001b[0m \u001b[1m310s\u001b[0m 268ms/step - accuracy: 0.9242 - loss: 0.1820 - val_accuracy: 0.8867 - val_loss: 0.2747\n",
            "Epoch 4/10\n",
            "\u001b[1m1156/1156\u001b[0m \u001b[32m━━━━━━━━━━━━━━━━━━━━\u001b[0m\u001b[37m\u001b[0m \u001b[1m286s\u001b[0m 247ms/step - accuracy: 0.9388 - loss: 0.1479 - val_accuracy: 0.8803 - val_loss: 0.3668\n",
            "Epoch 5/10\n",
            "\u001b[1m1156/1156\u001b[0m \u001b[32m━━━━━━━━━━━━━━━━━━━━\u001b[0m\u001b[37m\u001b[0m \u001b[1m302s\u001b[0m 261ms/step - accuracy: 0.9521 - loss: 0.1126 - val_accuracy: 0.8759 - val_loss: 0.3979\n",
            "Epoch 6/10\n",
            "\u001b[1m1156/1156\u001b[0m \u001b[32m━━━━━━━━━━━━━━━━━━━━\u001b[0m\u001b[37m\u001b[0m \u001b[1m294s\u001b[0m 254ms/step - accuracy: 0.9591 - loss: 0.0974 - val_accuracy: 0.8666 - val_loss: 0.4924\n",
            "Epoch 7/10\n",
            "\u001b[1m1156/1156\u001b[0m \u001b[32m━━━━━━━━━━━━━━━━━━━━\u001b[0m\u001b[37m\u001b[0m \u001b[1m309s\u001b[0m 267ms/step - accuracy: 0.9665 - loss: 0.0822 - val_accuracy: 0.8707 - val_loss: 0.4892\n",
            "Epoch 8/10\n",
            "\u001b[1m1156/1156\u001b[0m \u001b[32m━━━━━━━━━━━━━━━━━━━━\u001b[0m\u001b[37m\u001b[0m \u001b[1m307s\u001b[0m 266ms/step - accuracy: 0.9740 - loss: 0.0661 - val_accuracy: 0.8691 - val_loss: 0.5344\n",
            "Epoch 9/10\n",
            "\u001b[1m1156/1156\u001b[0m \u001b[32m━━━━━━━━━━━━━━━━━━━━\u001b[0m\u001b[37m\u001b[0m \u001b[1m303s\u001b[0m 262ms/step - accuracy: 0.9749 - loss: 0.0581 - val_accuracy: 0.8666 - val_loss: 0.5667\n",
            "Epoch 10/10\n",
            "\u001b[1m1156/1156\u001b[0m \u001b[32m━━━━━━━━━━━━━━━━━━━━\u001b[0m\u001b[37m\u001b[0m \u001b[1m328s\u001b[0m 284ms/step - accuracy: 0.9804 - loss: 0.0478 - val_accuracy: 0.8657 - val_loss: 0.7048\n"
          ]
        }
      ],
      "source": [
        "\n",
        "\n",
        "model = Sequential([\n",
        "    Embedding(input_dim=45405, output_dim=128),  \n",
        "    Bidirectional(LSTM(128, return_sequences=True)),  \n",
        "    Dropout(0.5),\n",
        "    Bidirectional(LSTM(64)),  \n",
        "    Dropout(0.5),\n",
        "    Dense(128, activation='relu'),  \n",
        "    Dropout(0.5),\n",
        "    Dense(1, activation='sigmoid')  \n",
        "])\n",
        "\n",
        "\n",
        "model.compile(loss='binary_crossentropy', optimizer='adam', metrics=['accuracy'])\n",
        "\n",
        "history = model.fit(X_train, y_train, epochs=10, batch_size=32, validation_data=(X_test, y_test)) \n"
      ]
    },
    {
      "cell_type": "code",
      "execution_count": 29,
      "metadata": {},
      "outputs": [
        {
          "data": {
            "text/plain": [
              "<keras.src.callbacks.history.History at 0x2194656d090>"
            ]
          },
          "execution_count": 29,
          "metadata": {},
          "output_type": "execute_result"
        }
      ],
      "source": [
        "history"
      ]
    },
    {
      "cell_type": "code",
      "execution_count": 30,
      "metadata": {},
      "outputs": [
        {
          "name": "stdout",
          "output_type": "stream",
          "text": [
            "\u001b[1m289/289\u001b[0m \u001b[32m━━━━━━━━━━━━━━━━━━━━\u001b[0m\u001b[37m\u001b[0m \u001b[1m137s\u001b[0m 477ms/step - accuracy: 0.8654 - loss: 0.7054\n",
            "Test Accuracy: 86.57%\n"
          ]
        }
      ],
      "source": [
        "loss, accuracy = model.evaluate(X_test, y_test)\n",
        "print(f\"Test Accuracy: {accuracy*100:.2f}%\")"
      ]
    },
    {
      "cell_type": "code",
      "execution_count": 31,
      "metadata": {},
      "outputs": [
        {
          "name": "stdout",
          "output_type": "stream",
          "text": [
            "\u001b[1m289/289\u001b[0m \u001b[32m━━━━━━━━━━━━━━━━━━━━\u001b[0m\u001b[37m\u001b[0m \u001b[1m22s\u001b[0m 74ms/step - accuracy: 0.8654 - loss: 0.7054\n",
            "Test Accuracy: 86.57%\n",
            "\u001b[1m289/289\u001b[0m \u001b[32m━━━━━━━━━━━━━━━━━━━━\u001b[0m\u001b[37m\u001b[0m \u001b[1m21s\u001b[0m 68ms/step\n",
            "\n",
            "Classification Report:\n",
            "              precision    recall  f1-score   support\n",
            "\n",
            "           0       0.84      0.85      0.84      3909\n",
            "           1       0.89      0.88      0.88      5336\n",
            "\n",
            "    accuracy                           0.87      9245\n",
            "   macro avg       0.86      0.86      0.86      9245\n",
            "weighted avg       0.87      0.87      0.87      9245\n",
            "\n",
            "Precision: 0.89\n",
            "Recall: 0.88\n",
            "F1 Score: 0.88\n"
          ]
        }
      ],
      "source": [
        "from sklearn.metrics import classification_report\n",
        "from sklearn.metrics import precision_score, recall_score, f1_score\n",
        "\n",
        "\n",
        "loss, accuracy = model.evaluate(X_test, y_test)\n",
        "print(f\"Test Accuracy: {accuracy*100:.2f}%\")\n",
        "\n",
        "y_pred = model.predict(X_test)\n",
        "\n",
        "\n",
        "y_pred_labels = (y_pred > 0.5).astype(int)\n",
        "print(\"\\nClassification Report:\")\n",
        "print(classification_report(y_test, y_pred_labels))\n",
        "\n",
        "\n",
        "precision = precision_score(y_test, y_pred_labels)\n",
        "recall = recall_score(y_test, y_pred_labels)\n",
        "f1 = f1_score(y_test, y_pred_labels)\n",
        "\n",
        "print(f\"Precision: {precision:.2f}\")\n",
        "print(f\"Recall: {recall:.2f}\")\n",
        "print(f\"F1 Score: {f1:.2f}\")\n"
      ]
    },
    {
      "cell_type": "code",
      "execution_count": null,
      "metadata": {},
      "outputs": [
        {
          "data": {
            "image/png": "[encoded data removed]",
            "text/plain": [
              "<Figure size 1200x600 with 2 Axes>"
            ]
          },
          "metadata": {},
          "output_type": "display_data"
        }
      ],
      "source": [
        "import matplotlib.pyplot as plt\n",
        "plt.figure(figsize=(12, 6))\n",
        "plt.subplot(1, 2, 1)\n",
        "plt.plot(history.history['loss'], label='Train Loss')\n",
        "plt.plot(history.history['val_loss'], label='Validation Loss')\n",
        "plt.title('Model Loss')\n",
        "plt.xlabel('Epochs')\n",
        "plt.ylabel('Loss')\n",
        "plt.legend()\n",
        "plt.subplot(1, 2, 2)\n",
        "plt.plot(history.history['accuracy'], label='Train Accuracy')\n",
        "plt.plot(history.history['val_accuracy'], label='Validation Accuracy')\n",
        "plt.title('Model Accuracy')\n",
        "plt.xlabel('Epochs')\n",
        "plt.ylabel('Accuracy')\n",
        "plt.legend()\n",
        "plt.tight_layout()\n",
        "plt.show()\n"
      ]
    },
    {
      "cell_type": "markdown",
      "metadata": {
        "id": "t5OpQ0UrSqzH"
      },
      "source": [
        "**Saving the Trained Model**"
      ]
    },
    {
      "cell_type": "code",
      "execution_count": 21,
      "metadata": {
        "colab": {
          "base_uri": "https://localhost:8080/"
        },
        "id": "9PpmLoJ_kLgc",
        "outputId": "15d6c78b-5e50-492f-d24f-ba10ac43dac0"
      },
      "outputs": [
        {
          "name": "stdout",
          "output_type": "stream",
          "text": [
            "Keras model saved at: BI LSTM/models/model.keras\n",
            "Pickle model saved at: BI LSTM/models/model.pkl\n"
          ]
        }
      ],
      "source": [
        "model.save(keras_model_path)\n",
        "print(f\"Keras model saved at: {keras_model_path}\")\n",
        "with open(pickle_model_path, 'wb') as f:\n",
        "    pickle.dump({\n",
        "        'model': model.to_json(),\n",
        "        'weights': model.get_weights(),\n",
        "        'tokenizer': tokenizer,\n",
        "        'label_encoder': label_encoder\n",
        "    }, f)\n",
        "print(f\"Pickle model saved at: {pickle_model_path}\")\n"
      ]
    },
    {
      "cell_type": "markdown",
      "metadata": {
        "id": "SCOszijzTbm5"
      },
      "source": [
        "**Loading models**"
      ]
    },
    {
      "cell_type": "code",
      "execution_count": 22,
      "metadata": {
        "colab": {
          "base_uri": "https://localhost:8080/"
        },
        "id": "TDYron40kZhA",
        "outputId": "55ab2150-f797-4250-a18b-e7ebc22fc671"
      },
      "outputs": [
        {
          "name": "stdout",
          "output_type": "stream",
          "text": [
            "Keras model loaded successfully!\n",
            "Pickle model, tokenizer, and label encoder loaded successfully!\n"
          ]
        }
      ],
      "source": [
        "model = load_model(keras_model_path)\n",
        "print(\"Keras model loaded successfully!\")\n",
        "max_length = 100 \n",
        "\n",
        "\n",
        "with open(pickle_model_path, 'rb') as f:\n",
        "    loaded_pickle_data = pickle.load(f)\n",
        "\n",
        "model = model_from_json(loaded_pickle_data['model'])\n",
        "model.set_weights(loaded_pickle_data['weights'])\n",
        "\n",
        "tokenizer = loaded_pickle_data['tokenizer']\n",
        "label_encoder = loaded_pickle_data['label_encoder']\n",
        "\n",
        "print(\"Pickle model, tokenizer, and label encoder loaded successfully!\")\n"
      ]
    },
    {
      "cell_type": "markdown",
      "metadata": {
        "id": "4UlwmJxrTjL7"
      },
      "source": [
        "**Cyberbullying Prediction**"
      ]
    },
    {
      "cell_type": "code",
      "execution_count": 34,
      "metadata": {
        "colab": {
          "base_uri": "https://localhost:8080/"
        },
        "id": "BZ7TuzdMwnbK",
        "outputId": "4acd349d-7a1a-4f6a-bc0f-a3a82a3dfbca"
      },
      "outputs": [
        {
          "name": "stdout",
          "output_type": "stream",
          "text": [
            "\u001b[1m1/1\u001b[0m \u001b[32m━━━━━━━━━━━━━━━━━━━━\u001b[0m\u001b[37m\u001b[0m \u001b[1m0s\u001b[0m 54ms/step\n",
            "[[0.9948359]]\n",
            "Prediction: Bullying\n",
            "Severity Level: High\n"
          ]
        }
      ],
      "source": [
        "def predict_bullying_and_severity(input_text):\n",
        "    input_sequence = tokenizer.texts_to_sequences([input_text])\n",
        "    input_padded = pad_sequences(input_sequence, maxlen=max_length, padding='post')\n",
        "    bullying_prediction = model.predict(input_padded)\n",
        "    print(bullying_prediction)\n",
        "\n",
        "    if bullying_prediction >.5 and bullying_prediction < .85:\n",
        "        severity = \"Bullying\"\n",
        "        severity_level = \"Moderate\"  \n",
        "    elif bullying_prediction > .85:\n",
        "        severity = \"Bullying\"\n",
        "        severity_level = \"High\"  \n",
        "    else:\n",
        "        severity = \"Non-Bullying\"\n",
        "        severity_level = \"Low\"\n",
        "    return severity, severity_level\n",
        "\n",
        "input_comment = \"bloody indian\"\n",
        "severity, severity_level = predict_bullying_and_severity(input_comment)\n",
        "\n",
        "print(f\"Prediction: {severity}\")\n",
        "print(f\"Severity Level: {severity_level}\")\n"
      ]
    },
    {
      "cell_type": "code",
      "execution_count": null,
      "metadata": {},
      "outputs": [],
      "source": []
    }
  ],
  "metadata": {
    "colab": {
      "provenance": []
    },
    "kernelspec": {
      "display_name": "Python 3",
      "name": "python3"
    },
    "language_info": {
      "codemirror_mode": {
        "name": "ipython",
        "version": 3
      },
      "file_extension": ".py",
      "mimetype": "text/x-python",
      "name": "python",
      "nbconvert_exporter": "python",
      "pygments_lexer": "ipython3",
      "version": "3.10.0"
    }
  },
  "nbformat": 4,
  "nbformat_minor": 0
}
